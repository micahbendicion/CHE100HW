{
  "nbformat": 4,
  "nbformat_minor": 0,
  "metadata": {
    "colab": {
      "name": "CHE 100 HW 4",
      "provenance": [],
      "authorship_tag": "ABX9TyPTrN1+hhforXQhMkv8B1U1",
      "include_colab_link": true
    },
    "kernelspec": {
      "name": "python3",
      "display_name": "Python 3"
    }
  },
  "cells": [
    {
      "cell_type": "markdown",
      "metadata": {
        "id": "view-in-github",
        "colab_type": "text"
      },
      "source": [
        "<a href=\"https://colab.research.google.com/github/micahbendicion/CHE100HW/blob/main/CHE_100_HW_4.ipynb\" target=\"_parent\"><img src=\"https://colab.research.google.com/assets/colab-badge.svg\" alt=\"Open In Colab\"/></a>"
      ]
    },
    {
      "cell_type": "markdown",
      "metadata": {
        "id": "LOIb75BbR73b"
      },
      "source": [
        "# **Problem 1 (5.75)**"
      ]
    },
    {
      "cell_type": "markdown",
      "metadata": {
        "id": "baW_k5sQYaGr"
      },
      "source": [
        "The measured volumetric flow rate of ethane at **10.0 atm** absolute and **35 $^{\\circ}$C** is **1.00 * $10^3$$ L/h$**.  Using an estimated value of the second virial coefficient in the truncated virial equation (Equation 5.3-2),\n",
        "*   (a) calculate $\\hat{V}$ (L/mol)\n",
        "*   (b) estimate the compressibility factor, *z*;\n",
        "*   (c) determine the mass flow rate of ethane in kg/h."
      ]
    },
    {
      "cell_type": "markdown",
      "metadata": {
        "id": "N8zXXckKlC3P"
      },
      "source": [
        "## Part (a)"
      ]
    },
    {
      "cell_type": "markdown",
      "metadata": {
        "id": "fmF6bLscafMj"
      },
      "source": [
        "Truncated Virial Equation: $\\frac{P\\hat{V}}{RT} = 1 + \\frac{B}{\\hat{V}}$ \\\\\n"
      ]
    },
    {
      "cell_type": "code",
      "metadata": {
        "id": "GbAfsHJwR7Ml",
        "outputId": "5e3271b0-7361-4dab-d7dd-1f7a575bea1c",
        "colab": {
          "base_uri": "https://localhost:8080/"
        }
      },
      "source": [
        "import numpy as np\n",
        "\n",
        "omega = 0.098 # Pitzer acentric factor for ethane\n",
        "P = 10.0\n",
        "R = 0.082057 # atm L / mol K\n",
        "T = 35 + 273 # Kelvin\n",
        "V_f = 1000 # L/h\n",
        "\n",
        "# Estimate V_hat from P, V, T\n",
        "V_ideal = R*T/P\n",
        "print(\"V_ideal = \"+str(V_ideal))\n",
        "print()\n",
        "\n",
        "Tc = 305.4\n",
        "Tr = T/Tc\n",
        "Pc = 48.2\n",
        "\n",
        "B0 = 0.083 - 0.422/(Tr**(1.6))\n",
        "B1 = 0.139 - 0.172/(Tr**(4.2))\n",
        "B = R*Tc/Pc*(B0+omega*B1)\n",
        "print(\"B0 = \"+str(B0))\n",
        "print(\"B1 = \"+str(B1))\n",
        "print(\"B  = \"+str(B ))"
      ],
      "execution_count": null,
      "outputs": [
        {
          "output_type": "stream",
          "text": [
            "V_ideal = 2.5273556000000004\n",
            "\n",
            "B0 = -0.33331471044212635\n",
            "B1 = -0.026983674646861716\n",
            "B  = -0.17467230545382978\n"
          ],
          "name": "stdout"
        }
      ]
    },
    {
      "cell_type": "markdown",
      "metadata": {
        "id": "Yrf8gPVYeior"
      },
      "source": [
        "$\\frac{P}{RT}\\hat{V}^2-\\hat{V}-B=0 \\\\ \\\\ \\\\\n",
        "\\hat{V} = \\frac{1 \\pm \\sqrt{1+\\frac{4PB}{RT}}}{\\frac{2P}{RT}}\n",
        "$"
      ]
    },
    {
      "cell_type": "code",
      "metadata": {
        "id": "AoApoy4Lf-0S",
        "outputId": "be631d43-be59-4379-ba0b-db2ba6f58417",
        "colab": {
          "base_uri": "https://localhost:8080/"
        }
      },
      "source": [
        "a = P/R/T\n",
        "b = -1\n",
        "c = -B\n",
        "\n",
        "V_hat_solutions = np.array([(-b + np.sqrt(b**2 - 4*a*c))/(2*a),(-b - np.sqrt(b**2 - 4*a*c))/(2*a)])\n",
        "print(\"V_hat_solutions = \"+str(V_hat_solutions))\n",
        "\n",
        "V_hat = V_hat_solutions[0]\n",
        "\n",
        "print(\"V_hat = \"+str(np.round(V_hat, 2))+\" L/mol\")"
      ],
      "execution_count": null,
      "outputs": [
        {
          "output_type": "stream",
          "text": [
            "V_hat_solutions = [2.33858363 0.18877197]\n",
            "V_hat = 2.34 L/mol\n"
          ],
          "name": "stdout"
        }
      ]
    },
    {
      "cell_type": "markdown",
      "metadata": {
        "id": "fZvGO9VoOabh"
      },
      "source": [
        "## Part (b)"
      ]
    },
    {
      "cell_type": "code",
      "metadata": {
        "id": "WqWV9TrKOc3B",
        "outputId": "2d61dcf1-fa46-4270-ed60-7954304882b9",
        "colab": {
          "base_uri": "https://localhost:8080/"
        }
      },
      "source": [
        "z = P*V_hat/R/T\n",
        "\n",
        "print(\"z = \"+str(np.round(z,3)))"
      ],
      "execution_count": null,
      "outputs": [
        {
          "output_type": "stream",
          "text": [
            "z = 0.925\n"
          ],
          "name": "stdout"
        }
      ]
    },
    {
      "cell_type": "markdown",
      "metadata": {
        "id": "Os7ZtHubO7bS"
      },
      "source": [
        "## Part (c)"
      ]
    },
    {
      "cell_type": "markdown",
      "metadata": {
        "id": "LhhwyTdvFIWr"
      },
      "source": [
        "$\\frac{L\\ C_2H_6}{\\text{h}}\\cdot \\frac{1\\ \\text{mol}\\ C_2H_6}{L\\ C_2H_6}\\cdot \\frac{\\text{g}\\ C_2H_6}{\\text{mol}\\ C_2H_6}\\cdot \\frac{1\\ \\text{kg}}{\\text{1000 g}}=\\frac{\\text{kg}\\ C_2H_6}{\\text{h}}$"
      ]
    },
    {
      "cell_type": "code",
      "metadata": {
        "id": "OkfdOiGLGyVN",
        "outputId": "b45686c1-5b6f-4848-da6d-d14c4d943c6c",
        "colab": {
          "base_uri": "https://localhost:8080/"
        }
      },
      "source": [
        "Molar_mass    = 30.07 # g/mol\n",
        "\n",
        "mass_flowrate = V_f/V_hat*Molar_mass/1000\n",
        "\n",
        "print(\"Mass flowrate = \"+str(np.round(mass_flowrate,1))+\" kg/h\")"
      ],
      "execution_count": null,
      "outputs": [
        {
          "output_type": "stream",
          "text": [
            "Mass flowrate = 12.9 kg/h\n"
          ],
          "name": "stdout"
        }
      ]
    },
    {
      "cell_type": "markdown",
      "metadata": {
        "id": "FHZu5IDEJ-gs"
      },
      "source": [
        "# **Problem 2 (5.77)**"
      ]
    },
    {
      "cell_type": "markdown",
      "metadata": {
        "id": "lL3m6aWtLUoF"
      },
      "source": [
        "Methanol is to be delivered to a process unit at a rate of **15.0 kmol/h** by a stream that is **30.0 mole% methanol** and **70.0 mole% propane**.  Estimate the **volumetric flow rate** of this stream at **10.0 atm** and **100.0 °C** using the truncated virial equation and the following mixing rule:\n",
        "\\begin{align*}\n",
        "B_{mix}=\\sum_{i} \\sum_{j} y_iy_jB_{ij}\n",
        "\\end{align*}\n",
        "where the virial coefficients for the pure species, $B_{ii}$ and $B_{jj}$, are determined from Equation 5.3-6 and $B_{ij} \\approx 0.5(B_{ii}+B_{jj})$."
      ]
    },
    {
      "cell_type": "markdown",
      "metadata": {
        "id": "imvMw1lSN5Dr"
      },
      "source": [
        "Strategy: Use virial to get from 15.0 kmol/h to L/h"
      ]
    },
    {
      "cell_type": "markdown",
      "metadata": {
        "id": "XApmsZ05PEZY"
      },
      "source": [
        "Truncated Virial Equation: $\\frac{P\\hat{V}}{RT} = 1 + \\frac{B}{\\hat{V}}$ \\\\\n",
        "\n",
        "\\begin{align*}\n",
        "B_{mix} &=y_m^2B_{mm}+y_my_pB_{mp}+y_py_mB_{pm}+y_p^2B_{pp} \\\\\n",
        "&=y_m^2B_{mm}+2y_my_pB_{mp}+y_p^2B_{pp} \\\\\n",
        "&=y_m^2B_{mm}+y_my_p(B_{mm}+B_{pp})+y_p^2B_{pp} \\\\\n",
        "&=y_m^2B_{m}+y_my_p(B_{m}+B_{p})+y_p^2B_{p}\\ \\leftarrow \\text{(shorten redundant B's)} \\\\\n",
        "\\end{align*}"
      ]
    },
    {
      "cell_type": "code",
      "metadata": {
        "id": "xl29YdzfPEZa",
        "outputId": "506f21f1-746a-4c6d-b720-34ba86a23fde",
        "colab": {
          "base_uri": "https://localhost:8080/"
        }
      },
      "source": [
        "# B_m\n",
        "\n",
        "import numpy as np\n",
        "\n",
        "feed = 15.0 # kmol/h\n",
        "y_m  = 0.300\n",
        "y_p  = 0.700\n",
        "omega = 0.559 # Pitzer acentric factor for methanol\n",
        "P = 10.0\n",
        "R = 0.082057 # atm L / mol K\n",
        "T = 100.0 + 273.15 # Kelvin\n",
        "\n",
        "\n",
        "# Estimate V_hat from P, V, T\n",
        "V_ideal = R*T/P\n",
        "print(\"V_ideal = \"+str(V_ideal))\n",
        "print()\n",
        "\n",
        "Tc = 513.20\n",
        "Tr = T/Tc\n",
        "Pc = 78.50\n",
        "\n",
        "B0 = 0.083 - 0.422/(Tr**(1.6))\n",
        "B1 = 0.139 - 0.172/(Tr**(4.2))\n",
        "B_m = R*Tc/Pc*(B0+omega*B1)\n",
        "print(\"B_m  = \"+str(B_m))"
      ],
      "execution_count": null,
      "outputs": [
        {
          "output_type": "stream",
          "text": [
            "V_ideal = 3.0619569550000003\n",
            "\n",
            "B_m  = -0.4874296541002553\n"
          ],
          "name": "stdout"
        }
      ]
    },
    {
      "cell_type": "code",
      "metadata": {
        "id": "sqgaO1Y4VRSH",
        "outputId": "6f2936cc-d628-42d2-fc68-cad0bc3a1991",
        "colab": {
          "base_uri": "https://localhost:8080/"
        }
      },
      "source": [
        "# B_p\n",
        "\n",
        "import numpy as np\n",
        "\n",
        "feed = 15.0 # kmol/h\n",
        "y_m  = 0.300\n",
        "y_p  = 0.700\n",
        "omega = 0.152 # Pitzer acentric factor for propane\n",
        "P = 10.0\n",
        "R = 0.082057 # atm L / mol K\n",
        "T = 100.0 + 273.15 # Kelvin\n",
        "\n",
        "\n",
        "# Estimate V_hat from P, V, T\n",
        "V_ideal = R*T/P\n",
        "print(\"V_ideal = \"+str(V_ideal))\n",
        "print()\n",
        "\n",
        "Tc = 369.9\n",
        "Tr = T/Tc\n",
        "Pc = 42.0\n",
        "\n",
        "B0 = 0.083 - 0.422/(Tr**(1.6))\n",
        "B1 = 0.139 - 0.172/(Tr**(4.2))\n",
        "B_p = R*Tc/Pc*(B0+omega*B1)\n",
        "print(\"B_p  = \"+str(B_p))"
      ],
      "execution_count": null,
      "outputs": [
        {
          "output_type": "stream",
          "text": [
            "V_ideal = 3.0619569550000003\n",
            "\n",
            "B_p  = -0.24369573525935428\n"
          ],
          "name": "stdout"
        }
      ]
    },
    {
      "cell_type": "code",
      "metadata": {
        "id": "QInoGU6iVw_h",
        "outputId": "31b2d982-5062-48cc-a91c-98d6718a13f0",
        "colab": {
          "base_uri": "https://localhost:8080/"
        }
      },
      "source": [
        "# B_mix\n",
        "\n",
        "B_mix = y_m**2*B_m + y_m*y_p*(B_m + B_p) + y_p**2*B_p\n",
        "print(B_mix)"
      ],
      "execution_count": null,
      "outputs": [
        {
          "output_type": "stream",
          "text": [
            "-0.31681591091162453\n"
          ],
          "name": "stdout"
        }
      ]
    },
    {
      "cell_type": "markdown",
      "metadata": {
        "id": "RaRX3-yNPEZe"
      },
      "source": [
        "$\\frac{P}{RT}\\hat{V}^2-\\hat{V}-B=0 \\\\ \\\\ \\\\\n",
        "\\hat{V} = \\frac{1 \\pm \\sqrt{1+\\frac{4PB}{RT}}}{\\frac{2P}{RT}}\n",
        "$"
      ]
    },
    {
      "cell_type": "code",
      "metadata": {
        "id": "kCbnR-NUPEZf",
        "outputId": "14a2a329-b1ed-4a00-f432-c2aa7eb134f4",
        "colab": {
          "base_uri": "https://localhost:8080/"
        }
      },
      "source": [
        "a = P/R/T\n",
        "b = -1\n",
        "c = -B_mix\n",
        "\n",
        "V_hat_solutions = np.array([(-b + np.sqrt(b**2 - 4*a*c))/(2*a),(-b - np.sqrt(b**2 - 4*a*c))/(2*a)])\n",
        "print(\"V_hat_solutions = \"+str(V_hat_solutions))\n",
        "\n",
        "V_hat = V_hat_solutions[0]\n",
        "\n",
        "print(\"V_hat = \"+str(np.round(V_hat, 2))+\" L/mol\")"
      ],
      "execution_count": null,
      "outputs": [
        {
          "output_type": "stream",
          "text": [
            "V_hat_solutions = [2.70307848 0.35887847]\n",
            "V_hat = 2.7 L/mol\n"
          ],
          "name": "stdout"
        }
      ]
    },
    {
      "cell_type": "code",
      "metadata": {
        "id": "v12u4FOuURgA",
        "outputId": "9be04d2a-2e7f-44b6-e1a8-e44e01b24528",
        "colab": {
          "base_uri": "https://localhost:8080/"
        }
      },
      "source": [
        "V_f = feed*1000*V_hat\n",
        "print(\"V_f = \"+str(np.round(V_f,-2))+\" L/h\")"
      ],
      "execution_count": null,
      "outputs": [
        {
          "output_type": "stream",
          "text": [
            "V_f = 40500.0 L/h\n"
          ],
          "name": "stdout"
        }
      ]
    },
    {
      "cell_type": "markdown",
      "metadata": {
        "id": "HYJG8fllQ8_P"
      },
      "source": [
        "# **Problem 3 (5.90)**"
      ]
    },
    {
      "cell_type": "markdown",
      "metadata": {
        "id": "qyXlS-SlRBil"
      },
      "source": [
        "A **fuel cell** is an electrochemical device that reacts hydrogen with oxygen from the air to produce water and DC electricity.  A proposed application is replacement of the gasoline-fueled internal combustion engine in an automobile with a 100 kW fuel cell. \\\n",
        "You are on a summer internship with a gas supplier planning to transport hydrogen to service stations for use in cars powered by fuel cells.  The hydrogen is to be transported in *tube trailers*, each of which has **10 tubes of length 10.5 m and diameter 0.56 m**.  Hydrogen in the tubes at **2600 psig** and an average temperature of **298 K** is discharged at service stations to a final pressure of **55 psig**.  Refueling each fuel-cell-powered automobile is estimated to require **4.0 kg** of hydrogen."
      ]
    },
    {
      "cell_type": "markdown",
      "metadata": {
        "id": "WysF8tYfSDQe"
      },
      "source": [
        "## Part (a)"
      ]
    },
    {
      "cell_type": "markdown",
      "metadata": {
        "id": "J_vdkkzaSIyF"
      },
      "source": [
        "Strategy: use Ideal Gas Law to calculate, if value matches office-mate's, then that was his mistake (pressure of hydrogen is too high to be ideal)\\\n",
        "$\\frac{\\Delta PV_{tanks}}{RT}=n \\rightarrow \\text{mass H2 discharged}$"
      ]
    },
    {
      "cell_type": "code",
      "metadata": {
        "id": "gJns739ESF-V",
        "outputId": "3681d366-bc75-48f4-bf99-e2659014b065",
        "colab": {
          "base_uri": "https://localhost:8080/"
        }
      },
      "source": [
        "import numpy as np\n",
        "\n",
        "P   = (2600 - 55) / 14.696 # atm\n",
        "V   = 10 * 10.5 * np.pi * 0.56**2 / 4 * 1000 # L\n",
        "R   = 0.082057 # atm L / mol K\n",
        "T   = 298 # Kelvin\n",
        "Molar_mass = 2.016 / 1000 # kg/mol\n",
        "\n",
        "m_H2 = P*V/R/T * Molar_mass # kg\n",
        "\n",
        "estimate = 95 # cars\n",
        "m_automobile = 4.0 # kg\n",
        "\n",
        "n_cars_ideal = m_H2 / m_automobile\n",
        "print(str(n_cars_ideal)+\" cars\")"
      ],
      "execution_count": 8,
      "outputs": [
        {
          "output_type": "stream",
          "text": [
            "92.30867455669492 cars\n"
          ],
          "name": "stdout"
        }
      ]
    },
    {
      "cell_type": "markdown",
      "metadata": {
        "id": "SYXw7px_TqRq"
      },
      "source": [
        "My office-mate may have incorrectly assumed ideal gas conditions when the hydrogen pressure was actually too high for the low-pressure assumption to hold."
      ]
    },
    {
      "cell_type": "markdown",
      "metadata": {
        "id": "Ke9_0FR0UIkZ"
      },
      "source": [
        "## Part (b)"
      ]
    },
    {
      "cell_type": "markdown",
      "metadata": {
        "id": "F7atOn5ZUQEZ"
      },
      "source": [
        "SRK equation of state: $P = \\frac{RT}{\\hat{V}-b} - \\frac{\\alpha a}{\\hat{V}(\\hat{V}+b)}$\\\n",
        "Solve for: $\\hat{V}$"
      ]
    },
    {
      "cell_type": "code",
      "metadata": {
        "id": "H_wSr1jpUN_p",
        "outputId": "eeb0de06-745a-40b8-b49d-c37470110be2",
        "colab": {
          "base_uri": "https://localhost:8080/"
        }
      },
      "source": [
        "import numpy as np\n",
        "from sympy import symbols, solve\n",
        "\n",
        "P   = (2600 - 55) / 14.696 # atm\n",
        "R   = 0.082057 # atm L / mol K\n",
        "T   = 298 # K\n",
        "\n",
        "Tc  = 33.3 + 8 # Newton's correction\n",
        "Tr  = T/Tc\n",
        "Pc  = 12.8 + 8 # Newton's correction\n",
        "\n",
        "a   = 0.42747 * (R * Tc)**2 / Pc\n",
        "b   = 0.08664 * (R * Tc) / Pc\n",
        "al  = 1.202 * np.exp(-0.3228 * Tr)\n",
        "\n",
        "V_h = symbols('V_h')\n",
        "\n",
        "expr = R*T/(V_h-b) - a*al/V_h/(V_h+b) - P\n",
        "\n",
        "sol = solve(expr)\n",
        "\n",
        "real = np.isreal(sol)\n",
        "\n",
        "# only one solution makes sense\n",
        "\n",
        "V_hat = sol[2]\n",
        "print(\"V_hat = \"+str(V_hat))\n",
        "V_hat = 0.154459216834209"
      ],
      "execution_count": 38,
      "outputs": [
        {
          "output_type": "stream",
          "text": [
            "V_hat = 0.154459216834209 - 0.e-23*I\n"
          ],
          "name": "stdout"
        }
      ]
    },
    {
      "cell_type": "markdown",
      "metadata": {
        "id": "wTLvPZWUekC5"
      },
      "source": [
        "$\\hat{V} \\rightarrow n \\rightarrow m_{H_2}$"
      ]
    },
    {
      "cell_type": "code",
      "metadata": {
        "id": "zGa2M0A3eV2K",
        "outputId": "0ca02139-da92-49f1-ef94-2995f1617ab0",
        "colab": {
          "base_uri": "https://localhost:8080/"
        }
      },
      "source": [
        "# Solve for n_cars\n",
        "\n",
        "V   = 10 * 10.5 * np.pi * 0.56**2 / 4 * 1000 # L\n",
        "\n",
        "m_H2 = V/V_hat * Molar_mass\n",
        "\n",
        "n_cars = m_H2/m_automobile\n",
        "\n",
        "print(\"n_cars = \"+str(n_cars)+\" cars\")\n"
      ],
      "execution_count": 39,
      "outputs": [
        {
          "output_type": "stream",
          "text": [
            "n_cars = 84.3862994531656 cars\n"
          ],
          "name": "stdout"
        }
      ]
    },
    {
      "cell_type": "markdown",
      "metadata": {
        "id": "m_a1-VBggXyo"
      },
      "source": [
        "## Part (c)"
      ]
    },
    {
      "cell_type": "markdown",
      "metadata": {
        "id": "DFx_O5dIgZdm"
      },
      "source": [
        "$P\\hat{V} = zRT \\rightarrow \\hat{V} = \\frac{zRT}{P}$"
      ]
    },
    {
      "cell_type": "code",
      "metadata": {
        "id": "SeBBMISNigL2",
        "outputId": "5eb6235e-ead4-4756-a527-c43e8445bae8",
        "colab": {
          "base_uri": "https://localhost:8080/"
        }
      },
      "source": [
        "import numpy as np\n",
        "\n",
        "P   = (2600 - 55) / 14.696 # atm\n",
        "R   = 0.082057 # atm L / mol K\n",
        "T   = 298 # K\n",
        "\n",
        "Tc  = 33.3 + 8 # Newton's correction\n",
        "Tr  = T/Tc\n",
        "Pc  = 12.8 + 8 # Newton's correction\n",
        "Pr  = P/Pc\n",
        "print(\"Pr = \"+str(Pr))\n",
        "print(\"Tr = \"+str(Tr))\n",
        "\n",
        "# Use generalized compressibility factor chart\n",
        "\n",
        "z = 1.11 # from medium pressure chart\n",
        "\n",
        "V_hat = z*R*T/P\n",
        "print(\"V_hat = \"+str(V_hat))"
      ],
      "execution_count": 40,
      "outputs": [
        {
          "output_type": "stream",
          "text": [
            "Pr = 8.325787236715382\n",
            "Tr = 7.215496368038742\n",
            "V_hat = 0.15673508892108448\n"
          ],
          "name": "stdout"
        }
      ]
    },
    {
      "cell_type": "code",
      "metadata": {
        "id": "4pvwUtT-lViL",
        "outputId": "9a3d406f-16e3-4b42-b56e-3c9aaa1889a8",
        "colab": {
          "base_uri": "https://localhost:8080/"
        }
      },
      "source": [
        "V   = 10 * 10.5 * np.pi * 0.56**2 / 4 * 1000 # L\n",
        "\n",
        "m_H2 = V/V_hat * Molar_mass\n",
        "\n",
        "n_cars = m_H2/m_automobile\n",
        "\n",
        "print(\"n_cars = \"+str(n_cars)+\" cars\")"
      ],
      "execution_count": 41,
      "outputs": [
        {
          "output_type": "stream",
          "text": [
            "n_cars = 83.16096806909452 cars\n"
          ],
          "name": "stdout"
        }
      ]
    },
    {
      "cell_type": "markdown",
      "metadata": {
        "id": "8hPlNaQCb70R"
      },
      "source": [
        "## Part (d)"
      ]
    },
    {
      "cell_type": "markdown",
      "metadata": {
        "id": "fobwZ7GtmDJK"
      },
      "source": [
        "I would be most confident in the SRK equation of state because\n",
        "\n",
        "\n",
        "1.   The ideal gas assumption does not hold for part (a) due to the very high hydrogen pressure,\n",
        "2.   z is less precise and accurate than SRK because it is a single variable and it is read off of a chart, and\n",
        "3.   The correlation used in SRK is specifically for hydrogen.\n",
        "\n"
      ]
    },
    {
      "cell_type": "markdown",
      "metadata": {
        "id": "4Af3Wc8pb_gv"
      },
      "source": [
        "# **Problem 4 (5.85)**"
      ]
    },
    {
      "cell_type": "markdown",
      "metadata": {
        "id": "K5_E9mmrchXn"
      },
      "source": [
        "Use the generalized compressibility chart to estimate $z$ for\n",
        "1.   (a) nitrogen at 40 °C and 40 MPa and\n",
        "2.   (b) helium at -200 °C and 350 atm.  (Don't forget Newton's corrections.)"
      ]
    },
    {
      "cell_type": "markdown",
      "metadata": {
        "id": "A3IkOxp9c9BW"
      },
      "source": [
        "## Part (a)"
      ]
    },
    {
      "cell_type": "markdown",
      "metadata": {
        "id": "NZWRorO3c-wO"
      },
      "source": [
        "Calculate reduced temperature and pressure"
      ]
    },
    {
      "cell_type": "code",
      "metadata": {
        "id": "gleStdPtdWdk",
        "outputId": "de7d1a52-5d75-479e-a32a-2aed4fb1c462",
        "colab": {
          "base_uri": "https://localhost:8080/"
        }
      },
      "source": [
        "import numpy as np\n",
        "\n",
        "T   = 40 + 273 # Kelvin\n",
        "P   = 40 / 0.101325 # atm\n",
        "\n",
        "Tc  = 126.20\n",
        "Tr  = T/Tc\n",
        "Pc  = 33.5\n",
        "Pr  = P/Pc\n",
        "print(\"Tr = \"+str(np.round(Tr, 2)))\n",
        "print(\"Pr = \"+str(np.round(Pr, 1)))\n",
        "\n",
        "z   = 1.20 # from high pressure compressibility chart\n",
        "\n",
        "print(\"z = \"+str(z))"
      ],
      "execution_count": 3,
      "outputs": [
        {
          "output_type": "stream",
          "text": [
            "Tr = 2.48\n",
            "Pr = 11.8\n",
            "z = 1.2\n"
          ],
          "name": "stdout"
        }
      ]
    },
    {
      "cell_type": "markdown",
      "metadata": {
        "id": "ocTOoBdpgJH-"
      },
      "source": [
        "## Part (b)"
      ]
    },
    {
      "cell_type": "code",
      "metadata": {
        "id": "W1XOX_mygNcF",
        "outputId": "5a4f6bc7-f223-4d18-9b7f-b4a4d35809f8",
        "colab": {
          "base_uri": "https://localhost:8080/"
        }
      },
      "source": [
        "T   = -200 + 275\n",
        "P   = 350\n",
        "\n",
        "Tc  = 5.26 + 8 # Newton's correction\n",
        "Tr  = T/Tc\n",
        "Pc  = 2.26 + 8 # Newton's correction\n",
        "Pr  = P/Pc\n",
        "print(\"Tr = \"+str(np.round(Tr, 1)))\n",
        "print(\"Pr = \"+str(np.round(Pr, 1)))\n",
        "\n",
        "z   = 1.58 # from high pressure compressibility chart\n",
        "print(\"z = \"+str(z))"
      ],
      "execution_count": 6,
      "outputs": [
        {
          "output_type": "stream",
          "text": [
            "Tr = 5.7\n",
            "Pr = 34.1\n",
            "z = 1.58\n"
          ],
          "name": "stdout"
        }
      ]
    }
  ]
}